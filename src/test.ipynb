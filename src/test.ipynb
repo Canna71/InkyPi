{
 "cells": [
  {
   "cell_type": "code",
   "execution_count": 1,
   "metadata": {},
   "outputs": [],
   "source": [
    "from datetime import datetime\n",
    "# Get today's date\n",
    "today = datetime.today().strftime('%A, %B %d, %Y')"
   ]
  },
  {
   "cell_type": "code",
   "execution_count": 2,
   "metadata": {},
   "outputs": [
    {
     "name": "stdout",
     "output_type": "stream",
     "text": [
      "Today is Saturday, February 01, 2025 and the current time\n"
     ]
    }
   ],
   "source": [
    "template = 'Today is $TODAY and the current time'\n",
    "\n",
    "# Replace $TODAY with today's date\n",
    "template = template.replace('$TODAY', today)\n",
    "\n",
    "print(template)"
   ]
  },
  {
   "cell_type": "code",
   "execution_count": 3,
   "metadata": {},
   "outputs": [],
   "source": [
    "import sys\n",
    "sys.path.append('..')  # Add parent directory to Python path\n",
    "\n",
    "# import AIImage2 which is in the plugins folder\n",
    "from src.plugins.ai_image_2.ai_image_2 import AIImage2\n"
   ]
  },
  {
   "cell_type": "code",
   "execution_count": 4,
   "metadata": {},
   "outputs": [],
   "source": [
    "# Create an instance of the AIImage2 class\n",
    "config = {\n",
    "    'model': 'CompVis/stable-diffusion-v1-4',\n",
    "    'device': 'cuda',\n",
    "    'seed': None,\n",
    "    'output_dir': 'outputs',\n",
    "    'num_inference_steps': 50,\n",
    "    'guidance_scale': 7.5,\n",
    "    'height': 512,\n",
    "    'width': 512\n",
    "}\n",
    "ai_image = AIImage2(config)"
   ]
  },
  {
   "cell_type": "code",
   "execution_count": 5,
   "metadata": {},
   "outputs": [],
   "source": [
    "import datetime\n",
    "today = datetime.datetime.today()"
   ]
  },
  {
   "cell_type": "code",
   "execution_count": 6,
   "metadata": {},
   "outputs": [],
   "source": [
    "from openai import OpenAI\n",
    "ai_client = OpenAI(api_key = \"\")"
   ]
  },
  {
   "cell_type": "code",
   "execution_count": 7,
   "metadata": {},
   "outputs": [],
   "source": [
    "prompt = AIImage2.get_event(ai_client)"
   ]
  },
  {
   "cell_type": "code",
   "execution_count": 8,
   "metadata": {},
   "outputs": [
    {
     "data": {
      "text/plain": [
       "'**Topic: Music**\\n\\n**Event: Release of \"Thriller\" by Michael Jackson**\\n\\n**Image Prompt:**\\n\\nCreate a wide and horizontal artwork with a resolution of 1792x1024 that captures the essence of Michael Jackson\\'s iconic \"Thriller\" music video. The scene should be atmospheric and dynamic, featuring a moonlit night with eerie fog rolling across a dimly lit urban street. In the foreground, a group of dancers in zombie costumes, inspired by the classic red and black outfit worn by Michael Jackson in the video, are frozen mid-dance, capturing their signature, dramatic poses. The background should include a full moon casting long shadows, and a silhouetted cityscape to provide a sense of depth and setting. Add subtle musical notes floating in the air to symbolize the influence of the music. The overall mood should be a blend of mystery, energy, and nostalgia, paying homage to the 1980s era of pop culture.'"
      ]
     },
     "execution_count": 8,
     "metadata": {},
     "output_type": "execute_result"
    }
   ],
   "source": [
    "prompt"
   ]
  }
 ],
 "metadata": {
  "kernelspec": {
   "display_name": ".venv",
   "language": "python",
   "name": "python3"
  },
  "language_info": {
   "codemirror_mode": {
    "name": "ipython",
    "version": 3
   },
   "file_extension": ".py",
   "mimetype": "text/x-python",
   "name": "python",
   "nbconvert_exporter": "python",
   "pygments_lexer": "ipython3",
   "version": "3.13.1"
  }
 },
 "nbformat": 4,
 "nbformat_minor": 2
}
